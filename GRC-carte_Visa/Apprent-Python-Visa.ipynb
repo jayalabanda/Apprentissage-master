{
 "cells": [
  {
   "cell_type": "markdown",
   "metadata": {},
   "source": [
    "<center>\n",
    "<a href=\"http://www.insa-toulouse.fr/\" ><img src=\"http://www.math.univ-toulouse.fr/~besse/Wikistat/Images/logo-insa.jpg\" style=\"float:left; max-width: 120px; display: inline\" alt=\"INSA\"/></a> \n",
    "\n",
    "<a href=\"http://wikistat.fr/\" ><img src=\"http://www.math.univ-toulouse.fr/~besse/Wikistat/Images/wikistat.jpg\" style=\"float:right; max-width: 250px; display: inline\"  alt=\"Wikistat\"/></a>\n",
    "\n",
    "</center>"
   ]
  },
  {
   "cell_type": "markdown",
   "metadata": {},
   "source": [
    "# [Scénarios d'Apprentissage Statistique](https://github.com/wikistat/Apprentissage)"
   ]
  },
  {
   "cell_type": "markdown",
   "metadata": {},
   "source": [
    "# GRC: Score d'appétence d'un produit bancaire  en <a href=\"https://www.python.org/\"><img src=\"https://upload.wikimedia.org/wikipedia/commons/thumb/f/f8/Python_logo_and_wordmark.svg/390px-Python_logo_and_wordmark.svg.png\" style=\"max-width: 120px; display: inline\" alt=\"Python\"/></a> avec <a href=\"http://scikit-learn.org/stable/#\"><img src=\"http://scikit-learn.org/stable/_static/scikit-learn-logo-small.png\" style=\"max-width: 100px; display: inline\" alt=\"Scikit-learn\"/></a>"
   ]
  },
  {
   "cell_type": "markdown",
   "metadata": {},
   "source": [
    "#### Résumé\n",
    "Les données sont composées de 825 clients d'une banque décrits par 32 variables concernant leurs avoirs, et utilisations de leurs comptes. Après avoir réalisé, avec [R](https://github.com/wikistat/Exploration/blob/master/GRC-carte_Visa/Explo-R-Visa.ipynb) ou [Python](https://github.com/wikistat/Exploration/blob/master/GRC-carte_Visa/Explo-Python-Visa.ipynb), le premier objectif de segmentation ou profilage des types de comportement des clients, le 2ème consiste à estimer puis prévoir un *score d'appétence* pour un produit bancaie, ici la carte visa premier. Comparaison des différentes méthodes et algorihtmes d'apprentissage pour atteindre cet objectif de la régression logistique au *boosting* (*extrem gradient*) en passant par les arbres, les SVM ou random forest. Une procédure de validation croisée généralisée est itérée sur une selection de ces méthodes. Celles d'agrégation de modèles conduisent aux meilleurs résultats. \n",
    "\n",
    "## Introduction\n",
    "### Objectif\n",
    "Un  [calepin]((https://github.com/wikistat/Exploration/blob/master/GRC-carte_Visa/Explo-Python-Visa.ipynb)), qu'il est préférable d'exécuter préalablement, décrit le premier objectif d'exploration puis segmentation ou profilage des types de comportement des clients d'une banque. \n",
    "\n",
    "Ce deuxième calepin propose de construire un [score d'appétence](http://www.math.univ-toulouse.fr/~besse/Wikistat/pdf/st-scenar-app-visa.pdf) pour la carte *Visa Premier*. Ce deuxième objectif est intégré à la saison 3 ([Apprentissage Statistique](https://github.com/wikistat/Apprentissage)). Il s'agit d'un score d'appétence mais ce pourrait être le score d'attrition (*churn*) d'un opérateur téléphonique ou encore un score de défaillance d'un emprunteur ou de faillite d'une entreprise; les outils de modélisation sont les mêmes et sont très largement utilisés dans tout le secteur tertiaire pour l'aide à la décision.\n",
    "\n",
    "Remarque: un [scénario](https://www.math.univ-toulouse.fr/~besse/Wikistat/pdf/st-scenar-app-visa.pdf) plus ancien propose une exécution avec SAS, encore utilisé dans de nombreuses grandes entreprises.\n",
    "\n",
    "\n",
    "### Présentation des données\n",
    "#### Les variables\n",
    "La liste des variables est issue d'une base de données retraçant l'historique mensuel bancaire et les caractéristiques de tous les clients. Un sondage a été réalisé afin d'alléger les traitements ainsi qu'une première sélection de variables. Les variables contenues dans le fichier initial sont décrites dans le tableau ci-dessous. Elles sont observées sur 1425 clients.\n",
    "\n",
    "*Tableau: Liste des variables initiales et de leur libellé* Attention, certains sont écrits en majuscules dans les programmes puis en minuscules après transfomation des données (logarithme, recodage) au cours d ela phase d'exploration. Les noms des variables logarithmes des variables quantitatives se terminent par `L`les variables qualitatives se terminent par `Q`ou `q`. \n",
    "\n",
    "**Identifiant** | **Libellé**\n",
    "           --|--\n",
    "`sexeq` | Sexe (qualitatif) \n",
    "`ager` | Age en années\n",
    "`famiq` | Situation familiale: `Fmar Fcel Fdiv Fuli Fsep Fveu`\n",
    "`relat` | Ancienneté de relation en mois\n",
    "`pcspq` | Catégorie socio-professionnelle (code num)\n",
    "`opgnb` | Nombre d'opérations par guichet dans le mois\n",
    "`moyrv` | Moyenne des mouvements nets créditeurs des 3 mois en Kf\n",
    "`tavep` | Total des avoirs épargne monétaire en francs\n",
    "`endet` | Taux d'endettement\n",
    "`gaget` | Total des engagements en francs\n",
    "`gagec` | Total des engagements court terme en francs\n",
    "`gagem` | Total des engagements moyen terme en francs\n",
    "`kvunb` | Nombre de comptes à vue\n",
    "`qsmoy` | Moyenne des soldes moyens sur 3 mois\n",
    "`qcred` | Moyenne des mouvements créditeurs en Kf\n",
    "`dmvtp` | Age du dernier mouvement (en jours)\\hline\n",
    "`boppn` | Nombre d'opérations à M-1\n",
    "`facan` | Montant facturé dans l'année en francs\n",
    "`lgagt` | Engagement long terme\n",
    "`vienb` | Nombre de produits contrats vie\n",
    "`viemt` | Montant des produits contrats vie en francs\n",
    "`uemnb` | Nombre de produits épargne monétaire\n",
    "`xlgnb` | Nombre de produits d'épargne logement\n",
    "`xlgmt` | Montant des produits d'épargne logement en francs\n",
    "`ylvnb` | Nombre de comptes sur livret\n",
    "`ylvmt` | Montant des comptes sur livret en francs\n",
    "`rocnb` | Nombre de paiements par carte bancaire à M-1\n",
    "`nptag` | Nombre de cartes point argent\n",
    "`itavc` | Total des avoirs sur tous les comptes\n",
    "`havef` | Total des avoirs épargne financière en francs\n",
    "`jnbjd | Nombre de jours à débit à M\n",
    "**`carvp`** | **Possession de la carte VISA Premier**\n",
    "\n",
    "\n",
    "**Réponde aux questions en s'aidant des résultats des exécutions**"
   ]
  },
  {
   "cell_type": "markdown",
   "metadata": {},
   "source": [
    "## Préparation des données\n",
    "### Lecture \n",
    "Les données sont disponibles dans le répertoire de ce calepin et chargées en même temps. Elles sont issues de la première phase de [prétraitement](https://github.com/wikistat/Exploration/blob/master/GRC-carte_Visa/Explo-R-Visa.ipynb) ou *data munging* pour détecter, corriger les erreurs et incohérences, éliminer des redondances, traiter les données manquantes, transformer certaines variables. "
   ]
  },
  {
   "cell_type": "code",
   "execution_count": null,
   "metadata": {},
   "outputs": [],
   "source": [
    "# Importation des librairies.\n",
    "import numpy as np\n",
    "import pandas as pd\n",
    "import random as rd\n",
    "import matplotlib.pyplot as plt\n",
    "%matplotlib inline\n",
    "from sklearn.model_selection import train_test_split\n",
    "from sklearn.model_selection import GridSearchCV"
   ]
  },
  {
   "cell_type": "code",
   "execution_count": null,
   "metadata": {},
   "outputs": [],
   "source": [
    "# Lecture d'un data frame\n",
    "vispremv = pd.read_table('vispremv.dat', delimiter=' ')\n",
    "vispremv.shape"
   ]
  },
  {
   "cell_type": "code",
   "execution_count": null,
   "metadata": {},
   "outputs": [],
   "source": [
    "vispremv.head()"
   ]
  },
  {
   "cell_type": "code",
   "execution_count": null,
   "metadata": {},
   "outputs": [],
   "source": [
    "# Variables quantitatives\n",
    "vispremv.describe()"
   ]
  },
  {
   "cell_type": "markdown",
   "metadata": {},
   "source": [
    "Vérifier ci-dessous que la plupart des variables ont deux versions, l'une quantitative et l'autre qualitative. La [version en R](https://github.com/wikistat/Apprentissage/blob/master/GRC-carte_Visa/Apprent-R-Visa.ipynb) de ce calepin compare deux stratégies: l'une basée sur l'utilisation des variables explicatives initiales quantitatives, l'autre sur celles qualitatives après découpage en classes. Compte tenu des résultats et des contraintes de python, ou plus précisement de `scikit-learn` , il est plus adapté de ne considérer que les variables quantitatives.\n",
    "\n",
    "Les variables qualitatives (sexe, csp, famille) sont transformées en indicatrices à l'exception de la cible `CARVP`."
   ]
  },
  {
   "cell_type": "code",
   "execution_count": null,
   "metadata": {},
   "outputs": [],
   "source": [
    "vispremv.dtypes"
   ]
  },
  {
   "cell_type": "code",
   "execution_count": null,
   "metadata": {},
   "outputs": [],
   "source": [
    "# Transformation en indicatrices\n",
    "vispremDum=pd.get_dummies(vispremv[[\"SEXEQ\",\"FAMIQ\",\"PCSPQ\"]])\n",
    "# Une seule est conservée pour les variables binaires\n",
    "vispremDum.drop([\"SEXEQ_Sfem\",\"FAMIQ_Fseu\"], axis = 1, inplace = True)\n",
    "# Sélection des variables numériques\n",
    "vispremNum = vispremv.select_dtypes(exclude=['object'])\n",
    "# Concaténation des variables retenues\n",
    "vispremR=pd.concat([vispremDum,vispremNum],axis=1)\n",
    "vispremR.columns"
   ]
  },
  {
   "cell_type": "markdown",
   "metadata": {},
   "source": [
    "**Q** Combien d'individus et combien de variables sont finalement concernés? "
   ]
  },
  {
   "cell_type": "code",
   "execution_count": null,
   "metadata": {},
   "outputs": [],
   "source": [
    "vispremR.shape"
   ]
  },
  {
   "cell_type": "code",
   "execution_count": null,
   "metadata": {},
   "outputs": [],
   "source": [
    "# La variable à expliquer est recodée\n",
    "y=vispremv[\"CARVP\"].map(lambda x: 0 if x==\"Cnon\" else 1)"
   ]
  },
  {
   "cell_type": "markdown",
   "metadata": {},
   "source": [
    "### Extraction des échantillons apprentissage et test"
   ]
  },
  {
   "cell_type": "code",
   "execution_count": null,
   "metadata": {},
   "outputs": [],
   "source": [
    "rd_seed=111 # Modifier cette valeur d'initialisation\n",
    "npop=len(vispremv)\n",
    "xApp,xTest,yApp,yTest=train_test_split(vispremR,y,test_size=200,random_state=rd_seed)\n",
    "xApp.shape"
   ]
  },
  {
   "cell_type": "markdown",
   "metadata": {},
   "source": [
    "## [Régression logistique](http://wikistat.fr/pdf/st-m-app-rlogit.pdf)\n",
    "Cette ancienne méthode reste toujours très utilisée. D'abord par habitude mais aussi par efficacité pour le traitement de données très volumineuses lors de l'estimation de très gros modèles (beaucoup de variables) notamment par exemple chez Criteo ou CDiscount.\n",
    "\n",
    "### Estimation et optimisation\n",
    "La procédure de sélection de modèle est celle par pénalisation: *ridge*, Lasso ou une combinaison (*elastic net*). Contrairement aux procédures disponibles en R (*stepwise, backward, forward*) optimisant un critère comme *AIC*, l'algorithme proposé dans `scikit-learn` nepermet pas une prise en compte simple des interactions. D'autre part les compléments usuels (test de Wald ou du rapport de vraisemblance) ne sont pas directement fournis. \n",
    "\n",
    "#### Optimisation Lasso"
   ]
  },
  {
   "cell_type": "code",
   "execution_count": null,
   "metadata": {},
   "outputs": [],
   "source": [
    "from sklearn.linear_model import LogisticRegression\n",
    "# Grille de valeurs du paramètre de pénalisaiton\n",
    "param=[{\"C\":[0.5,1,5,10,12,15,30]}]\n",
    "logitL = GridSearchCV(LogisticRegression(penalty=\"l1\"), param,cv=5,n_jobs=-1)\n",
    "logitLasso=logitL.fit(xApp, yApp)\n",
    "# Sélection du paramètre optimal\n",
    "logitLasso.best_params_[\"C\"]\n",
    "print(\"Meilleur score (apprentissage) = %f, Meilleur paramètre = %s\" %\n",
    "      (1.-logitLasso.best_score_,logitLasso.best_params_))"
   ]
  },
  {
   "cell_type": "markdown",
   "metadata": {},
   "source": [
    "Erreur de prévision"
   ]
  },
  {
   "cell_type": "code",
   "execution_count": null,
   "metadata": {},
   "outputs": [],
   "source": [
    "# Prévision\n",
    "yChap = logitLasso.predict(xTest)\n",
    "# matrice de confusion\n",
    "table=pd.crosstab(yChap,yTest)\n",
    "print(table)\n",
    "# Erreur sur l'échantillon test\n",
    "print(\"Erreur de test régression Lasso = %f\" % (1-logitLasso.score(xTest, yTest)))"
   ]
  },
  {
   "cell_type": "markdown",
   "metadata": {},
   "source": [
    "#### Optimisation *ridge*"
   ]
  },
  {
   "cell_type": "code",
   "execution_count": null,
   "metadata": {},
   "outputs": [],
   "source": [
    "# Grilles de valeurs du paramètre de pénalisation\n",
    "param=[{\"C\":[0.5,1,5,10,12,15,30]}]\n",
    "logitR = GridSearchCV(LogisticRegression(penalty=\"l2\"), param,cv=5,n_jobs=-1)\n",
    "logitRidge=logitR.fit(xApp, yApp)  \n",
    "# Sélection du paramètre optimal\n",
    "logitRidge.best_params_[\"C\"]\n",
    "print(\"Meilleur score = %f, Meilleur paramètre = %s\" % (1.-logitRidge.best_score_,logitRidge.best_params_))"
   ]
  },
  {
   "cell_type": "code",
   "execution_count": null,
   "metadata": {},
   "outputs": [],
   "source": [
    "# Prévision\n",
    "yChap = logitRidge.predict(xTest)\n",
    "# matrice de confusion\n",
    "table=pd.crosstab(yChap,yTest)\n",
    "print(table)\n",
    "# Erreur sur l'échantillon test\n",
    "print(\"Erreur de test régression Ridge = %f\" % (1-logitRidge.score(xTest, yTest)))"
   ]
  },
  {
   "cell_type": "markdown",
   "metadata": {},
   "source": [
    "**Q** Noter l'erreur de prévision; Comparer avec celle estimée par validation croisée.\n",
    "\n",
    "### Interprétation\n",
    "\n",
    "L'objet LassoOpt issu de GridSearchCV ne retient pas les paramètres estimés dans le modèle. Il faut donc ré-estimer avec la valeur optimale du paramètre de pénalisation si l'on souhaite afficher ces coefficients."
   ]
  },
  {
   "cell_type": "code",
   "execution_count": null,
   "metadata": {},
   "outputs": [],
   "source": [
    "LassoOpt=LogisticRegression(penalty=\"l1\",C=12)\n",
    "LassoOpt=LassoOpt.fit(xApp, yApp)\n",
    "# Récupération des coefficients\n",
    "vect_coef=np.matrix.transpose(LassoOpt.coef_)\n",
    "vect_coef=vect_coef.ravel()\n",
    "#Affichage des 25 plus importants\n",
    "coef=pd.Series(abs(vect_coef),index=xApp.columns).sort_values(ascending=False)\n",
    "print(coef)"
   ]
  },
  {
   "cell_type": "code",
   "execution_count": null,
   "metadata": {},
   "outputs": [],
   "source": [
    "plt.figure(figsize=(7,4))\n",
    "coef.plot(kind='bar')\n",
    "plt.title('Coeffients')\n",
    "plt.tight_layout()\n",
    "plt.show()"
   ]
  },
  {
   "cell_type": "markdown",
   "metadata": {},
   "source": [
    "**Q** Quelles sont les variables importantes? Comment interpréter?\n",
    "\n",
    "**Q** La pénalisation Lasso est-elle effective?\n",
    "\n",
    "Il serait intéressant de comparer acec les versions *ridge* et *elestic net* d'optiisation du modèle.\n",
    "\n",
    "### Courbe ROC"
   ]
  },
  {
   "cell_type": "code",
   "execution_count": null,
   "metadata": {},
   "outputs": [],
   "source": [
    "from sklearn.metrics import roc_curve\n",
    "listMethod=[[\"Lasso\",logitLasso],[\"Ridge\",logitRidge]]\n",
    "\n",
    "for method in enumerate(listMethod):\n",
    "    probas_ = method[1][1].predict_proba(xTest)\n",
    "    fpr, tpr, thresholds = roc_curve(yTest, probas_[:,1])\n",
    "    plt.plot(fpr, tpr, lw=1,label=\"%s\"%method[1][0])\n",
    "plt.xlabel('Taux de faux positifs')\n",
    "plt.ylabel('Taux de vrais positifs')\n",
    "plt.legend(loc=\"best\")\n",
    "plt.show()"
   ]
  },
  {
   "cell_type": "markdown",
   "metadata": {},
   "source": [
    "## Analyse discriminante\n",
    "Trois méthodes sont disponibles: paramétrique linéaire ou quadratique et non paramétrique (*k* plus proches voisins)."
   ]
  },
  {
   "cell_type": "code",
   "execution_count": null,
   "metadata": {},
   "outputs": [],
   "source": [
    "from sklearn import discriminant_analysis\n",
    "from sklearn.neighbors import KNeighborsClassifier"
   ]
  },
  {
   "cell_type": "markdown",
   "metadata": {},
   "source": [
    "### Dicriminante linéaire\n",
    "Estimation du modèle; il n'y a pas de procédure de sélection de variables proposées. Puis prévision de l'échantillon test."
   ]
  },
  {
   "cell_type": "code",
   "execution_count": null,
   "metadata": {},
   "outputs": [],
   "source": [
    "lda = discriminant_analysis.LinearDiscriminantAnalysis()\n",
    "disLin=lda.fit(xApp, yApp)\n",
    "# Prévision de l'échantillon test\n",
    "yChap = disLin.predict(xTest)\n",
    "# matrice de confusion\n",
    "table=pd.crosstab(yChap,yTest)\n",
    "print(table)\n",
    "# Erreur de prévision sur le test\n",
    "print(\"Erreur de test lda = %f\" % (1-disLin.score(xTest,yTest)))"
   ]
  },
  {
   "cell_type": "markdown",
   "metadata": {},
   "source": [
    "**Q** Que dire de la qualité? Des possibilités d'interprétation?\n",
    "\n",
    "**Q** Que signifie le *warning*? Quelles variables osnt en cause?\n",
    "### Discriminante quadratique"
   ]
  },
  {
   "cell_type": "code",
   "execution_count": null,
   "metadata": {},
   "outputs": [],
   "source": [
    "qda = discriminant_analysis.QuadraticDiscriminantAnalysis()\n",
    "disQua=qda.fit(xApp, yApp)"
   ]
  },
  {
   "cell_type": "code",
   "execution_count": null,
   "metadata": {},
   "outputs": [],
   "source": [
    "# Prévision de l'échantillon test\n",
    "yChap = disQua.predict(xTest)\n",
    "# matrice de confusion\n",
    "table=pd.crosstab(yChap,yTest)\n",
    "print(table)\n",
    "# Erreur de prévision sur le test\n",
    "print(\"Erreur de test qda = %f\" % (1-disQua.score(xTest,yTest)))"
   ]
  },
  {
   "cell_type": "markdown",
   "metadata": {},
   "source": [
    "### K plus proches voisins"
   ]
  },
  {
   "cell_type": "code",
   "execution_count": null,
   "metadata": {},
   "outputs": [],
   "source": [
    "knn=KNeighborsClassifier(n_neighbors=10)\n",
    "# Définition du modèle\n",
    "disKnn=knn.fit(xApp, yApp)\n",
    "# Prévision de l'échantillon test\n",
    "yChap = disKnn.predict(xTest)\n",
    "# matrice de confusion\n",
    "table=pd.crosstab(yChap,yTest)\n",
    "print(table)\n",
    "# Erreur de prévision sur le test\n",
    "print(\"Erreur de test knn = %f\" % (1-disKnn.score(xTest,yTest)))"
   ]
  },
  {
   "cell_type": "code",
   "execution_count": null,
   "metadata": {},
   "outputs": [],
   "source": [
    "yChap"
   ]
  },
  {
   "cell_type": "code",
   "execution_count": null,
   "metadata": {},
   "outputs": [],
   "source": [
    "#Optimisation du paramètre de complexité k\n",
    "#Grille de valeurs\n",
    "param_grid=[{\"n_neighbors\":list(range(1,15))}]\n",
    "disKnn=GridSearchCV(KNeighborsClassifier(),param_grid,cv=5,n_jobs=-1)\n",
    "disKnnOpt=disKnn.fit(xApp, yApp) # GridSearchCV est lui même un estimateur\n",
    "# paramètre optimal\n",
    "disKnnOpt.best_params_[\"n_neighbors\"]\n",
    "print(\"Meilleur score = %f, Meilleur paramètre = %s\" % (1.-disKnnOpt.best_score_,disKnnOpt.best_params_))"
   ]
  },
  {
   "cell_type": "code",
   "execution_count": null,
   "metadata": {},
   "outputs": [],
   "source": [
    "# Prévision de l'échantillon test\n",
    "yChap = disKnnOpt.predict(xTest)\n",
    "# matrice de confusion\n",
    "table=pd.crosstab(yChap,yTest)\n",
    "print(table)\n",
    "\n",
    "# Estimation de l'erreur de prévision sur l'échantillon test\n",
    "print(\"Erreur de test knn_opt = %f\" % (1-disKnnOpt.score(xTest,yTest)))"
   ]
  },
  {
   "cell_type": "markdown",
   "metadata": {},
   "source": [
    "Courbes ROC"
   ]
  },
  {
   "cell_type": "code",
   "execution_count": null,
   "metadata": {},
   "outputs": [],
   "source": [
    "from sklearn.metrics import roc_curve\n",
    "# Liste des méthodes\n",
    "listMethod=[[\"lda\",disLin],[\"qda\",disQua],[\"knn\",disKnnOpt]]\n",
    "# Tracé des courbes\n",
    "for method in enumerate(listMethod):\n",
    "    probas_ = method[1][1].predict_proba(xTest)\n",
    "    fpr, tpr, thresholds = roc_curve(yTest, probas_[:,1])\n",
    "    plt.plot(fpr, tpr, lw=1,label=\"%s\"%method[1][0])\n",
    "plt.xlabel('Taux de faux positifs')\n",
    "plt.ylabel('Taux de vrais positifs')\n",
    "plt.legend(loc=\"best\")\n",
    "plt.show()"
   ]
  },
  {
   "cell_type": "markdown",
   "metadata": {},
   "source": [
    "## [Arbres binaires de décision](http://wikistat.fr/pdf/st-m-app-cart.pdf)\n",
    "Les arbres binaires de décision concurrencent la régression logistique et gardent une place de choix dans les services de Gestion de la Relation Client, maintenant de *Science des Données*, par la facilité d'interprétation des modèles qui en découlent. L'optimisation de la complexité d'un artbre peut être délicate à opérer cr très sensible aux fluctuations de l'échantillon."
   ]
  },
  {
   "cell_type": "code",
   "execution_count": null,
   "metadata": {},
   "outputs": [],
   "source": [
    "from sklearn.tree import DecisionTreeClassifier"
   ]
  },
  {
   "cell_type": "code",
   "execution_count": null,
   "metadata": {},
   "outputs": [],
   "source": [
    "# définition du modèle\n",
    "tree= DecisionTreeClassifier()\n",
    "treeC=tree.fit(xApp, yApp)"
   ]
  },
  {
   "cell_type": "markdown",
   "metadata": {},
   "source": [
    "**Q** Quel est le critère d'homogénéité des noeuds utilisé par défaut?\n",
    "\n",
    "**Q** Quel est le problème concernant l'élagage de l'arbre dans `Scikkit-learn` vis à vis des possibliités de la librairie `rpart` de R?"
   ]
  },
  {
   "cell_type": "code",
   "execution_count": null,
   "metadata": {},
   "outputs": [],
   "source": [
    "# Optimisation de la profondeur de l'arbre\n",
    "param=[{\"max_depth\":list(range(2,10))}]\n",
    "tree= GridSearchCV(DecisionTreeClassifier(),param,cv=10,n_jobs=-1)\n",
    "treeOpt=tree.fit(xApp, yApp)\n",
    "# paramètre optimal\n",
    "print(\"Meilleur score = %f, Meilleur paramètre = %s\" % (1. - treeOpt.best_score_,treeOpt.best_params_))"
   ]
  },
  {
   "cell_type": "code",
   "execution_count": null,
   "metadata": {},
   "outputs": [],
   "source": [
    "# Prévision de l'échantillon test\n",
    "yChap = treeOpt.predict(xTest)\n",
    "# matrice de confusion\n",
    "table=pd.crosstab(yChap,yTest)\n",
    "print(table)# Erreur de prévision sur le test\n",
    "print(\"Erreur de test tree qualitatif = %f\" % (1-treeOpt.score(xTest,yTest)))"
   ]
  },
  {
   "cell_type": "code",
   "execution_count": null,
   "metadata": {},
   "outputs": [],
   "source": [
    "from sklearn.tree import export_graphviz\n",
    "from sklearn.externals.six import StringIO  \n",
    "import pydotplus\n",
    "treeG=DecisionTreeClassifier(max_depth=treeOpt.best_params_['max_depth'])\n",
    "treeG.fit(xApp,yApp)\n",
    "dot_data = StringIO() \n",
    "export_graphviz(treeG, out_file=dot_data) \n",
    "graph=pydotplus.graph_from_dot_data(dot_data.getvalue()) \n",
    "graph.write_png(\"treeOpt.png\")  "
   ]
  },
  {
   "cell_type": "code",
   "execution_count": null,
   "metadata": {},
   "outputs": [],
   "source": [
    "from IPython.display import Image\n",
    "Image(filename='treeOpt.png')"
   ]
  },
  {
   "cell_type": "markdown",
   "metadata": {},
   "source": [
    "### [Courbes ROC](http://wikistat.fr/pdf/st-m-app-risque.pdf)\n",
    "Comparaison des méthodes précédentes.\n",
    "\n",
    "La valeur de seuil par défaut (0.5) n'étant pas nécessairement celle \"optimale\", il est important de comparer les courbes ROC."
   ]
  },
  {
   "cell_type": "code",
   "execution_count": null,
   "metadata": {},
   "outputs": [],
   "source": [
    "# Liste des méthodes\n",
    "listMethod=[[\"Logit\",logitLasso],[\"lda\",disLin],[\"Arbre\",treeOpt]]\n",
    "# Tracé des courbes\n",
    "for method in enumerate(listMethod):\n",
    "    probas_ = method[1][1].predict_proba(xTest)\n",
    "    fpr, tpr, thresholds = roc_curve(yTest, probas_[:,1])\n",
    "    plt.plot(fpr, tpr, lw=1,label=\"%s\"%method[1][0])\n",
    "plt.xlabel('Taux de faux positifs')\n",
    "plt.ylabel('Taux de vrais positifs')\n",
    "plt.legend(loc=\"best\")\n",
    "plt.show()"
   ]
  },
  {
   "cell_type": "markdown",
   "metadata": {},
   "source": [
    "Commenter les résultats.\n",
    "\n",
    "**Q** Intérêt de la régression logistique par rapport à l'analyse discriminante linéaire?\n",
    "\n",
    "**Q** Conséquence du croisement des courbes ROC sur l'évaluation de l'AUC.\n",
    "\n",
    "L'échantillon test reste de taille modeste (200). une étude plus systématique est nécessaire ainsi que la prise en compte des autres méthodes."
   ]
  },
  {
   "cell_type": "markdown",
   "metadata": {},
   "source": [
    "## [Algorithmes d'agrégation de modèles](http://wikistat.fr/pdf/st-m-app-agreg.pdf)\n",
    "Il s'agit de comparer les principaux algorithmes issus de l'apprentissage machine: *bagging, random forest, boosting*.\n",
    "\n",
    "### *Bagging*\n",
    "\n",
    "**Q** Quel est par défaut l'estimateur qui est agrégé? \n",
    "\n",
    "**Q** Quel est le nombre d'estimateurs par défaut? Est-il nécessaire de l'optimiser?"
   ]
  },
  {
   "cell_type": "code",
   "execution_count": null,
   "metadata": {},
   "outputs": [],
   "source": [
    "from sklearn.ensemble import BaggingClassifier\n",
    "bag= BaggingClassifier(n_estimators=100,oob_score=False)\n",
    "bagC=bag.fit(xApp, yApp)\n",
    "# Prévision de l'échantillon test\n",
    "yChap = bagC.predict(xTest)\n",
    "# matrice de confusion\n",
    "table=pd.crosstab(yChap,yTest)\n",
    "print(table)\n",
    "\n",
    "# Erreur de prévision sur le test\n",
    "print(\"Erreur de test avec le bagging = %f\" % (1-bagC.score(xTest,yTest)))"
   ]
  },
  {
   "cell_type": "markdown",
   "metadata": {},
   "source": [
    "**Q** Exécuter plusieurs fois la cellule ci-dessus. Que penser de la stabilité de l'estimation de l'erreur et donc de sa fiabilité?\n",
    "\n",
    "### *Random forest*\n",
    "\n",
    "**Q** Quel paramètre doit être optimisé pour cet algorithme? Quel est sa valeur par défaut?\n",
    "\n",
    "**Q** Le nombre d'arbres de la forêt est-il un paramètre sensible?"
   ]
  },
  {
   "cell_type": "code",
   "execution_count": null,
   "metadata": {},
   "outputs": [],
   "source": [
    "from sklearn.ensemble import RandomForestClassifier"
   ]
  },
  {
   "cell_type": "code",
   "execution_count": null,
   "metadata": {},
   "outputs": [],
   "source": [
    "# Optimisation de max_features\n",
    "param=[{\"max_features\":list(range(2,10,1))}]\n",
    "rf= GridSearchCV(RandomForestClassifier(n_estimators=100),param,cv=5,n_jobs=-1)\n",
    "rfOpt=rf.fit(xApp, yApp)\n",
    "# paramètre optimal\n",
    "print(\"Meilleur score = %f, Meilleur paramètre = %s\" % (1. - rfOpt.best_score_,rfOpt.best_params_))"
   ]
  },
  {
   "cell_type": "code",
   "execution_count": null,
   "metadata": {},
   "outputs": [],
   "source": [
    "# Prévision de l'échantillon test\n",
    "yChap = rfOpt.predict(xTest)\n",
    "# matrice de confusion\n",
    "table=pd.crosstab(yChap,yTest)\n",
    "print(table)\n",
    "\n",
    "# Erreur de prévision sur le test\n",
    "print(\"Erreur de test random forest opt -quantitatif = %f\" % (1-rfOpt.score(xTest,yTest)))"
   ]
  },
  {
   "cell_type": "markdown",
   "metadata": {},
   "source": [
    "### *Gradient boosting*\n",
    "\n",
    "**Q** Quel est l'algorithme de *boosting* historique? Lequel est utilisé ici?\n",
    "\n",
    "**Q** Quels sont les paramètres qu'il est important de contrôler, optimiser?\n",
    "\n",
    "**Q** Quelle est la valeur par défaut de celui non optimisé ci-dessous?"
   ]
  },
  {
   "cell_type": "code",
   "execution_count": null,
   "metadata": {},
   "outputs": [],
   "source": [
    "from sklearn.ensemble import GradientBoostingClassifier\n",
    "# Optimisation de deux paramètres\n",
    "paramGrid = [\n",
    "  {'n_estimators': list(range(100,601,50)), 'learning_rate': [0.1,0.2,0.3,0.4]}\n",
    " ]\n",
    "gbmC= GridSearchCV(GradientBoostingClassifier(),paramGrid,cv=5,n_jobs=-1)\n",
    "gbmOpt=gbmC.fit(xApp, yApp)\n",
    "# paramètre optimal\n",
    "print(\"Meilleur score = %f, Meilleur paramètre = %s\" % (1. - gbmOpt.best_score_,gbmOpt.best_params_))"
   ]
  },
  {
   "cell_type": "code",
   "execution_count": null,
   "metadata": {},
   "outputs": [],
   "source": [
    "# Prévision de l'échantillon test\n",
    "yChap = gbmOpt.predict(xTest)\n",
    "# matrice de confusion\n",
    "table=pd.crosstab(yChap,yTest)\n",
    "print(table)\n",
    "\n",
    "# Erreur de prévision sur le test\n",
    "print(\"Erreur de test gbm opt = %f\" % (1-gbmOpt.score(xTest,yTest)))"
   ]
  },
  {
   "cell_type": "markdown",
   "metadata": {},
   "source": [
    "### Courbes ROC"
   ]
  },
  {
   "cell_type": "code",
   "execution_count": null,
   "metadata": {},
   "outputs": [],
   "source": [
    "# Liste des méthodes\n",
    "listMethod=[[\"Logit\",logitLasso],[\"lda\",disLin],[\"Arbre\",treeOpt],[\"RF\",rfOpt],[\"GBM\",gbmOpt]]\n",
    "# Tracé des courbes\n",
    "for method in enumerate(listMethod):\n",
    "    probas_ = method[1][1].predict_proba(xTest)\n",
    "    fpr, tpr, thresholds = roc_curve(yTest, probas_[:,1])\n",
    "    plt.plot(fpr, tpr, lw=1,label=\"%s\"%method[1][0])\n",
    "plt.xlabel('Taux de faux positifs')\n",
    "plt.ylabel('Taux de vrais positifs')\n",
    "plt.legend(loc=\"best\")\n",
    "plt.show()"
   ]
  },
  {
   "cell_type": "markdown",
   "metadata": {},
   "source": [
    "**Q** Quelles meilleure méthode interprétable? Quelle meilleure méthode?\n",
    "\n",
    "**Q** Que dire de l'*extrem gradient boosting* ? Du nombre de paramètres à optimiser? De son implémentation en Python par rapport à R? De sa disponibilité sous Windows?\n",
    "\n",
    "**Exercice** Ajouter les réseaux de neurones et les SVM dans la comparaison."
   ]
  },
  {
   "cell_type": "markdown",
   "metadata": {},
   "source": [
    "## [Validation croisée *Monte Carlo*](http://wikistat.fr/pdf/st-m-app-risque-estim.pdf)\n",
    "L'échantillon est de faible taille (#200), et les estimations des taux de bien classés comme le tracé des courbes ROC sont très dépendants de l’échantillon test; on peut s’interroger sur l’identité du modèle le plus performant ainsi que sur la significativité des différences observées entre les méthodes. Il est donc important d’itérer le processus (validation croisée *Monte Carlo*) sur plusieurs échantillons tests. Exécuter la fonction en annexe en choisissant les méthodes semblant les plus performantes. "
   ]
  },
  {
   "cell_type": "code",
   "execution_count": null,
   "metadata": {},
   "outputs": [],
   "source": [
    "from sklearn.utils import check_random_state\n",
    "import time\n",
    "check_random_state(13)\n",
    "tps0=time.clock()\n",
    "# définition des estimateurs\n",
    "logit = LogisticRegression(penalty=\"l1\")\n",
    "lda   = discriminant_analysis.LinearDiscriminantAnalysis()\n",
    "arbre = DecisionTreeClassifier()\n",
    "rf    = RandomForestClassifier(n_estimators=200)\n",
    "gbm   = GradientBoostingClassifier()\n",
    "# Nombre d'itérations\n",
    "B=3 # pour utiliser le programme, mettre plutôt B=30\n",
    "# définition des grilles de paramètres\n",
    "listMethGrid=[\n",
    "    [logit,{\"C\":[0.5,1,5,10,12,15,30]}],\n",
    "    [lda,{}],\n",
    "    [arbre,{\"max_depth\":[2,3,4,5,6,7,8,9,10]}],\n",
    "    [rf,{\"max_features\":[2,3,4,5,6]}],\n",
    "    [gbm,{\"n_estimators\": list(range(100,601,50)),\"learning_rate\": [0.1,0.2,0.3,0.4]}]\n",
    "    ]\n",
    "# Initialisation à 0 des erreurs pour chaque méthode (colonne) et chaque itération (ligne)\n",
    "arrayErreur=np.empty((B,5))\n",
    "for i in range(B):   # itérations sur B échantillons test\n",
    "    # extraction apprentissage et test\n",
    "    xApp,xTest,yApp,yTest=train_test_split(vispremR,y,test_size=200)\n",
    "    # optimisation de chaque méthode et calcul de l'erreur sur le test\n",
    "    for j,(method, grid_list) in enumerate(listMethGrid):\n",
    "        methodGrid=GridSearchCV(method,grid_list,cv=5,n_jobs=-1).fit(xApp, yApp)\n",
    "        methodOpt = methodGrid.best_estimator_\n",
    "        methFit=methodOpt.fit(xApp, yApp)\n",
    "        arrayErreur[i,j]=1-methFit.score(xTest,yTest)\n",
    "tps1=time.clock()\n",
    "print(\"Temps execution en mn :\",(tps1 - tps0)/60)"
   ]
  },
  {
   "cell_type": "code",
   "execution_count": null,
   "metadata": {},
   "outputs": [],
   "source": [
    "dataframeErreur=pd.DataFrame(arrayErreur,columns=[\"Logit\",\"LDA\",\"Arbre\",\"RF\",\"GBM\"])"
   ]
  },
  {
   "cell_type": "code",
   "execution_count": null,
   "metadata": {},
   "outputs": [],
   "source": [
    "# Distribution des erreurs\n",
    "dataframeErreur[[\"Logit\",\"LDA\",\"Arbre\",\"RF\",\"GBM\"]].boxplot(return_type='dict')\n",
    "plt.show()"
   ]
  },
  {
   "cell_type": "markdown",
   "metadata": {},
   "source": [
    "**Q** Finalement, quelle meilleure méthode? Quelle meilleure méthode interprétable?\n",
    "\n",
    "**Exercice**: tester `XGBoost`."
   ]
  },
  {
   "cell_type": "code",
   "execution_count": null,
   "metadata": {},
   "outputs": [],
   "source": [
    "# Moyennes\n",
    "dataframeErreur.mean()"
   ]
  }
 ],
 "metadata": {
  "kernelspec": {
   "display_name": "Python 3",
   "language": "python",
   "name": "python3"
  },
  "language_info": {
   "codemirror_mode": {
    "name": "ipython",
    "version": 3
   },
   "file_extension": ".py",
   "mimetype": "text/x-python",
   "name": "python",
   "nbconvert_exporter": "python",
   "pygments_lexer": "ipython3",
   "version": "3.6.6"
  }
 },
 "nbformat": 4,
 "nbformat_minor": 1
}
